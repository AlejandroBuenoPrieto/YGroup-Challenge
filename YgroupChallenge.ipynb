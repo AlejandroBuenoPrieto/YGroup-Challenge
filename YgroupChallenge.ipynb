{
 "cells": [
  {
   "cell_type": "markdown",
   "metadata": {},
   "source": [
    "### Librerias utilizadas"
   ]
  },
  {
   "cell_type": "code",
   "execution_count": 1,
   "metadata": {},
   "outputs": [],
   "source": [
    "import pandas as pd\n",
    "import matplotlib.pyplot as plt\n",
    "import ipywidgets as widgets\n",
    "from ipywidgets import interact\n",
    "from area import area\n",
    "import ipydatetime"
   ]
  },
  {
   "cell_type": "markdown",
   "metadata": {},
   "source": [
    "### Histograma de tiempos de viaje para un año dado"
   ]
  },
  {
   "cell_type": "code",
   "execution_count": 2,
   "metadata": {},
   "outputs": [],
   "source": [
    "def histograma_por_año(año):\n",
    "    \n",
    "    df = pd.read_csv(\"Data/OD_{}.csv\".format(año))\n",
    "    duration = df[\"duration_sec\"]\n",
    "    plt.hist(duration, bins=20 ,histtype='bar', edgecolor='k')\n",
    "    plt.xlabel('Duracion del viaje(segundos)')\n",
    "    plt.ylabel('Numero de viajes')\n",
    "    plt.title('Histograma de tiempos de viaje año {}'.format(año))\n",
    "    \n",
    "    return plt.show()"
   ]
  },
  {
   "cell_type": "code",
   "execution_count": 3,
   "metadata": {},
   "outputs": [
    {
     "data": {
      "application/vnd.jupyter.widget-view+json": {
       "model_id": "4c27e9cfeba543d1ad42160b64c497e6",
       "version_major": 2,
       "version_minor": 0
      },
      "text/plain": [
       "interactive(children=(Dropdown(description='año', options=(2014, 2015, 2016, 2017), value=2014), Output()), _d…"
      ]
     },
     "metadata": {},
     "output_type": "display_data"
    },
    {
     "data": {
      "text/plain": [
       "<function __main__.histograma_por_año>"
      ]
     },
     "execution_count": 3,
     "metadata": {},
     "output_type": "execute_result"
    }
   ],
   "source": [
    "interact(histograma_por_año, año=[2014,2015,2016,2017])"
   ]
  },
  {
   "cell_type": "markdown",
   "metadata": {},
   "source": [
    "### Listado del Top N de estaciones más utilizadas para un año dado. Dividirlo en:\n",
    "- Estaciones de salida\n",
    "- Estaciones de llegada\n",
    "- En general"
   ]
  },
  {
   "cell_type": "code",
   "execution_count": 64,
   "metadata": {},
   "outputs": [],
   "source": [
    "def listado_top_estaciones_año(año,N):\n",
    "    \n",
    "    df = pd.read_csv(\"Data/OD_{}.csv\".format(año))\n",
    "    \n",
    "    start_st = pd.DataFrame({'station_code': df['start_station_code']})\n",
    "    end_st = pd.DataFrame({'station_code': df['end_station_code']})\n",
    "    general_st = start_st.append(end_st)\n",
    "    \n",
    "    start_st = start_st.groupby('station_code').size().reset_index(name='counts')\n",
    "    start_st = start_st.sort_values(by=['counts'],ascending=False)\n",
    "    start_st = start_st.head(int(N))\n",
    "    start_st.index = range(1, int(N)+1)\n",
    "    \n",
    "    end_st = end_st.groupby('station_code').size().reset_index(name='counts')\n",
    "    end_st = end_st.sort_values(by=['counts'],ascending=False)\n",
    "    end_st = end_st.head(int(N))\n",
    "    end_st.index = range(1, int(N)+1)\n",
    "    \n",
    "    general_st = general_st.groupby('station_code').size().reset_index(name='counts')\n",
    "    general_st = general_st.sort_values(by=['counts'],ascending=False)\n",
    "    general_st = general_st.head(int(N))\n",
    "    general_st.index = range(1, int(N)+1)\n",
    "    \n",
    "    informe = pd.concat([start_st,end_st,general_st],axis=1)\n",
    "    informe.columns = [\"start_station_code\",\"start_count\",\"end_station_code\",\"end_count\",\"general_station_code\",\"general_count\"]\n",
    "    informe.to_csv(\"listado_top{}_estaciones_{}.csv\".format(int(N),año),index=False)\n",
    "    \n",
    "    return informe"
   ]
  },
  {
   "cell_type": "code",
   "execution_count": 65,
   "metadata": {},
   "outputs": [
    {
     "data": {
      "application/vnd.jupyter.widget-view+json": {
       "model_id": "ef269b24b0994b0cb86fa1e9ec9e2c3d",
       "version_major": 2,
       "version_minor": 0
      },
      "text/plain": [
       "interactive(children=(Dropdown(description='año', options=(2014, 2015, 2016, 2017), value=2014), FloatSlider(v…"
      ]
     },
     "metadata": {},
     "output_type": "display_data"
    },
    {
     "data": {
      "text/plain": [
       "<function __main__.listado_top_estaciones_año>"
      ]
     },
     "execution_count": 65,
     "metadata": {},
     "output_type": "execute_result"
    }
   ],
   "source": [
    "interact(listado_top_estaciones_año, año=[2014,2015,2016,2017],N=(0.0,200.0,1))"
   ]
  },
  {
   "cell_type": "markdown",
   "metadata": {},
   "source": [
    "### Listado del Top N de viajes más comunes para un año dado. Donde un viaje se define por su estación de salida y de llegada"
   ]
  },
  {
   "cell_type": "code",
   "execution_count": 68,
   "metadata": {},
   "outputs": [],
   "source": [
    "def listado_top_viajes_año(año,N):\n",
    "    \n",
    "    df = pd.read_csv(\"Data/OD_{}.csv\".format(año))\n",
    "    \n",
    "    viajes = pd.DataFrame({'start_station_code': df['start_station_code'],\n",
    "                      'end_station_code': df['end_station_code']})\n",
    "    \n",
    "    viajes[\"viaje\"] = viajes[\"start_station_code\"].astype(str) + '-' + viajes[\"end_station_code\"].astype(str)\n",
    "    viajes = viajes.groupby('viaje').size().reset_index(name='counts')\n",
    "    viajes = viajes.sort_values(by=['counts'],ascending=False)\n",
    "    viajes = viajes.head(int(N))\n",
    "    viajes.index = range(1, int(N)+1)\n",
    "    viajes.to_csv(\"listado_top{}_viajes_{}.csv\".format(int(N),año),index=False)\n",
    "    \n",
    "    return viajes"
   ]
  },
  {
   "cell_type": "code",
   "execution_count": 69,
   "metadata": {},
   "outputs": [
    {
     "data": {
      "application/vnd.jupyter.widget-view+json": {
       "model_id": "d73ab9672756482abd4e845c0e2ab790",
       "version_major": 2,
       "version_minor": 0
      },
      "text/plain": [
       "interactive(children=(Dropdown(description='año', options=(2014, 2015, 2016, 2017), value=2014), FloatSlider(v…"
      ]
     },
     "metadata": {},
     "output_type": "display_data"
    },
    {
     "data": {
      "text/plain": [
       "<function __main__.listado_top_viajes_año>"
      ]
     },
     "execution_count": 69,
     "metadata": {},
     "output_type": "execute_result"
    }
   ],
   "source": [
    "interact(listado_top_viajes_año, año=[2014,2015,2016,2017],N=(0.0,200.0,1))"
   ]
  },
  {
   "cell_type": "markdown",
   "metadata": {},
   "source": [
    "### Identificación de horas punta para un año determinado sin tener en cuenta el día. Es decir, si es día de semana, fin de semana, festivo o temporada del año."
   ]
  },
  {
   "cell_type": "code",
   "execution_count": 70,
   "metadata": {},
   "outputs": [],
   "source": [
    "def histograma_horas_por_año(año):\n",
    "    \n",
    "    df = pd.read_csv(\"Data/OD_{}.csv\".format(año))\n",
    "    hours = pd.to_datetime(df[\"start_date\"]).dt.hour\n",
    "    plt.hist(hours, bins=24 ,histtype='bar', edgecolor='k')\n",
    "    plt.xlabel('Hora del viage')\n",
    "    plt.xticks(range(0,24)) \n",
    "    plt.xlabel('Hora')\n",
    "    plt.ylabel('Numero de viajes')\n",
    "    plt.title('Histograma de horas puntas de viaje año {}'.format(año))\n",
    "    \n",
    "    return plt.show()"
   ]
  },
  {
   "cell_type": "code",
   "execution_count": 71,
   "metadata": {},
   "outputs": [
    {
     "data": {
      "application/vnd.jupyter.widget-view+json": {
       "model_id": "cc9759f20d1f4069ba4c9882707153bb",
       "version_major": 2,
       "version_minor": 0
      },
      "text/plain": [
       "interactive(children=(Dropdown(description='año', options=(2014, 2015, 2016, 2017), value=2014), Output()), _d…"
      ]
     },
     "metadata": {},
     "output_type": "display_data"
    },
    {
     "data": {
      "text/plain": [
       "<function __main__.histograma_horas_por_año>"
      ]
     },
     "execution_count": 71,
     "metadata": {},
     "output_type": "execute_result"
    }
   ],
   "source": [
    "interact(histograma_horas_por_año, año=[2014,2015,2016,2017])"
   ]
  },
  {
   "cell_type": "markdown",
   "metadata": {},
   "source": [
    "### Comparación de utilización del sistema entre dos años cualesquiera. La utilización del sistema se puede medir como:\n",
    "- Cantidad de viajes totales\n",
    "- Tiempo total de utilización del sistema\n",
    "- Cantidad de viajes por estaciones/bicicletas disponibles\n"
   ]
  },
  {
   "cell_type": "code",
   "execution_count": 74,
   "metadata": {},
   "outputs": [],
   "source": [
    "def comparacion_sistema_año(año1,año2,medida):\n",
    "    \n",
    "    df1 = pd.read_csv(\"Data/OD_{}.csv\".format(año1))\n",
    "    df2 = pd.read_csv(\"Data/OD_{}.csv\".format(año2))\n",
    "    \n",
    "    if medida==\"viajes totales\":\n",
    "        \n",
    "        plt.bar([str(año1),str(año2)],[len(df1),len(df2)])\n",
    "        plt.xlabel('Año')\n",
    "        plt.ylabel('Numero de viajes')\n",
    "        plt.title('Comparacion Nº viajes entre el {} y el {}'.format(año1,año2))\n",
    "        return plt.show()\n",
    "    \n",
    "    if medida==\"tiempo de uso\":\n",
    "        \n",
    "        uso1 = str(pd.Timedelta(df1[\"duration_sec\"].sum(), unit ='s'))\n",
    "        uso2 = str(pd.Timedelta(df2[\"duration_sec\"].sum(), unit ='s'))\n",
    "        \n",
    "        usoTotal = pd.DataFrame({str(año1):uso1,\n",
    "                                 str(año2):uso2},index=[0])\n",
    "        \n",
    "        return usoTotal\n",
    "        \n",
    "    else:\n",
    "        start_st1 = pd.DataFrame({'station_code': df1['start_station_code']})\n",
    "        end_st1 = pd.DataFrame({'station_code': df1['end_station_code']})\n",
    "        general_st1 = start_st1.append(end_st1)\n",
    "        \n",
    "        start_st2 = pd.DataFrame({'station_code': df2['start_station_code']})\n",
    "        end_st2 = pd.DataFrame({'station_code': df2['end_station_code']})\n",
    "        general_st2 = start_st2.append(end_st2)\n",
    "        \n",
    "        st1 = general_st1.groupby('station_code').size().reset_index(name='counts')\n",
    "        st1.index = range(1, len(st1)+1)\n",
    "        \n",
    "        st2 = general_st2.groupby('station_code').size().reset_index(name='counts')\n",
    "        st2.index = range(1, len(st2)+1)\n",
    "\n",
    "        comp_est = pd.concat([st1,st2],axis=1)\n",
    "        comp_est.columns = [\"station_code_\"+str(año1),\"count_\"+str(año1),\"station_code_\"+str(año2),\"count_\"+str(año2)]\n",
    "        comp_est.to_csv(\"comparacion_{}_{}_{}.csv\".format(año1,año2,medida),index=False)\n",
    "        \n",
    "        return comp_est"
   ]
  },
  {
   "cell_type": "code",
   "execution_count": 75,
   "metadata": {},
   "outputs": [
    {
     "data": {
      "application/vnd.jupyter.widget-view+json": {
       "model_id": "8481d6fe05ac4003b0c8033937c3a098",
       "version_major": 2,
       "version_minor": 0
      },
      "text/plain": [
       "interactive(children=(Dropdown(description='año1', options=(2014, 2015, 2016, 2017), value=2014), Dropdown(des…"
      ]
     },
     "metadata": {},
     "output_type": "display_data"
    },
    {
     "data": {
      "text/plain": [
       "<function __main__.comparacion_sistema_año>"
      ]
     },
     "execution_count": 75,
     "metadata": {},
     "output_type": "execute_result"
    }
   ],
   "source": [
    "interact(comparacion_sistema_año, año1=[2014,2015,2016,2017],año2=[2014,2015,2016,2017],\n",
    "         medida=[\"viajes totales\",\"tiempo de uso\", \"cantidad de viajes por estacion\"])"
   ]
  },
  {
   "cell_type": "markdown",
   "metadata": {},
   "source": [
    "### Capacidad instalada total (suma de la capacidad total de cada estación)"
   ]
  },
  {
   "cell_type": "code",
   "execution_count": 187,
   "metadata": {},
   "outputs": [
    {
     "name": "stdout",
     "output_type": "stream",
     "text": [
      "\n",
      "Capacidad total : 4925\n"
     ]
    }
   ],
   "source": [
    "stations = pd.read_json(\"Data/stations.json\")\n",
    "capacity = pd.json_normalize(stations[\"stations\"])\n",
    "print(\"\\nCapacidad total : {}\".format(capacity['ba'].sum()))"
   ]
  },
  {
   "cell_type": "markdown",
   "metadata": {},
   "source": [
    "### Cambio en la capacidad instalada entre dos años puntuales"
   ]
  },
  {
   "cell_type": "code",
   "execution_count": 247,
   "metadata": {},
   "outputs": [],
   "source": [
    "def comparacion_capacidad_año(año1,año2):\n",
    "    \n",
    "    df1 = pd.read_csv(\"Data/Stations_{}.csv\".format(año1))\n",
    "    df2 = pd.read_csv(\"Data/Stations_{}.csv\".format(año2))\n",
    "    \n",
    "    stations = pd.read_json(\"Data/stations.json\")\n",
    "    capacity = pd.json_normalize(stations[\"stations\"])\n",
    "    \n",
    "    sum1 = capacity[capacity.n.astype(int).isin(df1[\"code\"])]\n",
    "    sum2 = capacity[capacity.n.astype(int).isin(df2[\"code\"])]\n",
    "    \n",
    "    change = sum2['ba'].sum() - sum1['ba'].sum()\n",
    "    \n",
    "    print(\"El cambio de capacidad entre los años {} y {} ha sido de : {} unidades\".format(año1,año2,change))"
   ]
  },
  {
   "cell_type": "code",
   "execution_count": 248,
   "metadata": {},
   "outputs": [
    {
     "data": {
      "application/vnd.jupyter.widget-view+json": {
       "model_id": "9ededb6d3dd5493294ede664035ee396",
       "version_major": 2,
       "version_minor": 0
      },
      "text/plain": [
       "interactive(children=(Dropdown(description='año1', options=(2014, 2015, 2016, 2017), value=2014), Dropdown(des…"
      ]
     },
     "metadata": {},
     "output_type": "display_data"
    },
    {
     "data": {
      "text/plain": [
       "<function __main__.comparacion_capacidad_año>"
      ]
     },
     "execution_count": 248,
     "metadata": {},
     "output_type": "execute_result"
    }
   ],
   "source": [
    "interact(comparacion_capacidad_año, año1=[2014,2015,2016,2017],año2=[2014,2015,2016,2017])"
   ]
  },
  {
   "cell_type": "markdown",
   "metadata": {},
   "source": [
    "### Ampliación de la cobertura de la red entre dos años puntuales. La misma se puede medir como el área total que generan las estaciones.\n"
   ]
  },
  {
   "cell_type": "code",
   "execution_count": 327,
   "metadata": {},
   "outputs": [],
   "source": [
    "def ampliacion_red_año(año1,año2):\n",
    "    \n",
    "    df1 = pd.read_csv(\"Data/Stations_{}.csv\".format(año1))\n",
    "    df2 = pd.read_csv(\"Data/Stations_{}.csv\".format(año2))\n",
    "    \n",
    "    coordinates1 = []\n",
    "    for i in range(len(df1)):\n",
    "        coordinates1.append([df1[\"latitude\"][i],df1[\"longitude\"][i]])\n",
    "        \n",
    "    coordinates2 = []\n",
    "    for i in range(len(df2)):\n",
    "        coordinates2.append([df2[\"latitude\"][i],df2[\"longitude\"][i]])\n",
    "    \n",
    "    coordinates1.sort(key = lambda x: (-x[0], x[1]))\n",
    "    coordinates2.sort(key = lambda x: (-x[0], x[1]))\n",
    "    \n",
    "    obj1 = {'type':'Polygon','coordinates':[coordinates1]}\n",
    "    obj2 = {'type':'Polygon','coordinates':[coordinates2]}\n",
    "    \n",
    "    area1 = area(obj1)\n",
    "    area2 = area(obj2)\n",
    "    \n",
    "    print(\"La diferencia entre la cobertura de la red entre el {} y el {} es: {} m\".format(año1,año2,area2-area1))"
   ]
  },
  {
   "cell_type": "code",
   "execution_count": 328,
   "metadata": {},
   "outputs": [
    {
     "data": {
      "application/vnd.jupyter.widget-view+json": {
       "model_id": "58ac0e6fbca946a392cdcf290347c3d4",
       "version_major": 2,
       "version_minor": 0
      },
      "text/plain": [
       "interactive(children=(Dropdown(description='año1', options=(2014, 2015, 2016, 2017), value=2014), Dropdown(des…"
      ]
     },
     "metadata": {},
     "output_type": "display_data"
    },
    {
     "data": {
      "text/plain": [
       "<function __main__.ampliacion_red_año>"
      ]
     },
     "execution_count": 328,
     "metadata": {},
     "output_type": "execute_result"
    }
   ],
   "source": [
    "interact(ampliacion_red_año, año1=[2014,2015,2016,2017],año2=[2014,2015,2016,2017])"
   ]
  },
  {
   "cell_type": "markdown",
   "metadata": {},
   "source": [
    "### Comparación de densidad de la red para un par de años puntuales. La densidad de la red se mide como el área que abarcan todas las estaciones,dividida la cantidad de estaciones."
   ]
  },
  {
   "cell_type": "code",
   "execution_count": 335,
   "metadata": {},
   "outputs": [],
   "source": [
    "def densidad_red_año(año1,año2):\n",
    "    \n",
    "    df1 = pd.read_csv(\"Data/Stations_{}.csv\".format(año1))\n",
    "    df2 = pd.read_csv(\"Data/Stations_{}.csv\".format(año2))\n",
    "    \n",
    "    coordinates1 = []\n",
    "    for i in range(len(df1)):\n",
    "        coordinates1.append([df1[\"latitude\"][i],df1[\"longitude\"][i]])\n",
    "        \n",
    "    coordinates2 = []\n",
    "    for i in range(len(df2)):\n",
    "        coordinates2.append([df2[\"latitude\"][i],df2[\"longitude\"][i]])\n",
    "    \n",
    "    coordinates1.sort(key = lambda x: (-x[0], x[1]))\n",
    "    coordinates2.sort(key = lambda x: (-x[0], x[1]))\n",
    "    \n",
    "    obj1 = {'type':'Polygon','coordinates':[coordinates1]}\n",
    "    obj2 = {'type':'Polygon','coordinates':[coordinates2]}\n",
    "    \n",
    "    densidad1 = area(obj1) / len(df1)\n",
    "    densidad2 = area(obj2) / len(df2)\n",
    "    \n",
    "    print(\"La diferencia entre la densidad de la red entre el {} y el {} es: {}\".format(año1,año2,densidad2-densidad1))"
   ]
  },
  {
   "cell_type": "code",
   "execution_count": 336,
   "metadata": {},
   "outputs": [
    {
     "data": {
      "application/vnd.jupyter.widget-view+json": {
       "model_id": "0bb9440230964ae38b21a1c04335196e",
       "version_major": 2,
       "version_minor": 0
      },
      "text/plain": [
       "interactive(children=(Dropdown(description='año1', options=(2014, 2015, 2016, 2017), value=2014), Dropdown(des…"
      ]
     },
     "metadata": {},
     "output_type": "display_data"
    },
    {
     "data": {
      "text/plain": [
       "<function __main__.densidad_red_año>"
      ]
     },
     "execution_count": 336,
     "metadata": {},
     "output_type": "execute_result"
    }
   ],
   "source": [
    "interact(densidad_red_año, año1=[2014,2015,2016,2017],año2=[2014,2015,2016,2017])"
   ]
  },
  {
   "cell_type": "markdown",
   "metadata": {},
   "source": [
    "### Velocidad promedio de los ciclistas para un año determinado"
   ]
  },
  {
   "cell_type": "code",
   "execution_count": 425,
   "metadata": {},
   "outputs": [],
   "source": [
    "from math import sin, cos, sqrt, atan2, radians \n",
    "\n",
    "def velocidad_año(año):\n",
    "    \n",
    "    df = pd.read_csv(\"Data/OD_{}.csv\".format(año))\n",
    "    stations = pd.read_json(\"Data/stations.json\")\n",
    "    stations = pd.json_normalize(stations[\"stations\"])\n",
    "    stations.n = stations.n.astype(int)\n",
    "    \n",
    "    start = pd.DataFrame({'n': df[\"start_station_code\"]})\n",
    "    result_start = pd.merge(start,stations,on='n',how=\"left\")\n",
    "\n",
    "    end = pd.DataFrame({'n': df[\"end_station_code\"]})\n",
    "    result_end = pd.merge(end,stations,on='n',how=\"left\")\n",
    "\n",
    "    combine = pd.concat([result_start[[\"n\",\"id\",\"la\",\"lo\"]],result_end[[\"n\",\"id\",\"la\",\"lo\"]],df[\"duration_sec\"]],axis=1)\n",
    "    combine.columns = [\"start_station_code\",\"id\",\"start_station_la\",\"start_station_lo\",\n",
    "                       \"end_station_code\",\"end_station_id\",\"end_station_la\",\"end_station_lo\",\"duration_sec\"]\n",
    "    \n",
    "    R = 6373.0 \n",
    "\n",
    "    lat1 = combine[\"start_station_la\"].map(radians)\n",
    "    lon1 = combine[\"start_station_lo\"].map(radians)\n",
    "    lat2 = combine[\"end_station_la\"].map(radians)\n",
    "    lon2 = combine[\"end_station_lo\"].map(radians)\n",
    "\n",
    "\n",
    "    dlon = lon2 - lon1\n",
    "    dlat = lat2 - lat1\n",
    "\n",
    "    a = (dlat/2).map(sin)**2 + lat1.map(cos) * lat2.map(cos) * (dlon/2).map(sin)**2 \n",
    "    c = 2 * a.map(sqrt).map(asin) \n",
    "\n",
    "    distance = R * c\n",
    "\n",
    "    combine[\"speed\"] = distance / (combine[\"duration_sec\"]/3600)\n",
    "    \n",
    "    print(\"La velocidad media de los ciclistas en el año {} es: {} km/h\".format(año,combine[\"speed\"].mean()))"
   ]
  },
  {
   "cell_type": "code",
   "execution_count": 426,
   "metadata": {},
   "outputs": [
    {
     "data": {
      "application/vnd.jupyter.widget-view+json": {
       "model_id": "e510a65b9c7a435e932f168f9795b42c",
       "version_major": 2,
       "version_minor": 0
      },
      "text/plain": [
       "interactive(children=(Dropdown(description='año', options=(2014, 2015, 2016, 2017), value=2014), Output()), _d…"
      ]
     },
     "metadata": {},
     "output_type": "display_data"
    },
    {
     "data": {
      "text/plain": [
       "<function __main__.velocidad_año>"
      ]
     },
     "execution_count": 426,
     "metadata": {},
     "output_type": "execute_result"
    }
   ],
   "source": [
    "interact(velocidad_año, año=[2014,2015,2016,2017])"
   ]
  },
  {
   "cell_type": "markdown",
   "metadata": {},
   "source": [
    "### Cantidad de bicicletas totales para un momento dado. Considerando la misma como la cantidad de bicicletas que hay en todas las estaciones activas para ese momento, más todos los viajes que se estén realizando."
   ]
  },
  {
   "cell_type": "code",
   "execution_count": 61,
   "metadata": {},
   "outputs": [
    {
     "data": {
      "application/vnd.jupyter.widget-view+json": {
       "model_id": "858d9043f2a2414ea1d05615ef17ddc0",
       "version_major": 2,
       "version_minor": 0
      },
      "text/plain": [
       "interactive(children=(DatetimePicker(value=None, description='date'), Output()), _dom_classes=('widget-interac…"
      ]
     },
     "metadata": {},
     "output_type": "display_data"
    },
    {
     "data": {
      "text/plain": [
       "<function __main__.total_bikes_at_date>"
      ]
     },
     "execution_count": 61,
     "metadata": {},
     "output_type": "execute_result"
    }
   ],
   "source": [
    "from datetime import datetime\n",
    "import pytz\n",
    "\n",
    "datetime_picker = ipydatetime.DatetimePicker()\n",
    "\n",
    "def total_bikes_at_date(date):\n",
    "    if date!=None:\n",
    "        df = pd.read_csv(\"Data/OD_{}.csv\".format(date.year))\n",
    "        df.start_date = pd.to_datetime(df.start_date)\n",
    "        df.end_date = pd.to_datetime(df.end_date)\n",
    "        date = pd.to_datetime(date).tz_localize(tz=None)\n",
    "\n",
    "        total = len(df[(date>df.start_date) & (date<df.end_date)])\n",
    "        print(\"En el momento {} hay {} bicicletas\".format(str(date),total))        \n",
    "    else: \n",
    "        return 0\n",
    "    \n",
    "interact(total_bikes_at_date,date=datetime_picker)"
   ]
  }
 ],
 "metadata": {
  "kernelspec": {
   "display_name": "Python 3",
   "language": "python",
   "name": "python3"
  },
  "language_info": {
   "codemirror_mode": {
    "name": "ipython",
    "version": 3
   },
   "file_extension": ".py",
   "mimetype": "text/x-python",
   "name": "python",
   "nbconvert_exporter": "python",
   "pygments_lexer": "ipython3",
   "version": "3.7.5"
  }
 },
 "nbformat": 4,
 "nbformat_minor": 4
}
